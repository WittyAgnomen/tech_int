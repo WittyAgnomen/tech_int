{
 "cells": [
  {
   "cell_type": "markdown",
   "metadata": {},
   "source": [
    "# Searching and Sorting\n",
    "\n",
    "This jupyter notebook looks to cover some basic search and sorting algortims that are likely to come up in a technical interview for an engineering (comp-sci) role. It aims to explain both the overall idea and the code in python. Aditionally, links for more information and deeper understanding will be provided.\n",
    "\n",
    "Topics in search will include: **binary search**\n",
    "Topics in sorting will include: **bubble sort, mega sort, merge sort, and quick sort**\n",
    "\n",
    "## Binary Search\n",
    "\n",
    "Let's assume we have a sorted array (smallest to largest) with n unique elements and we want to know if a particular number x is in the array. Then if we were to loop through the array from either side, the worst case scenario for finding x in the array is O(n). However, since the array is sorted we could exploit that to do something more efficient. We could pick the middle number in the array, and ask if x is smaller, larger, or is the number. If smaller we know are number is to left of the middle and if larger to the right. We can now do this again. Let's assume it was smaller, we can than take the middle number in the array[0:middle_num] and see if it is smaller or larger, and then repeat the process until we find x or discover x is not in the array. Here the efficiency of process is O(log(n)), which is better than O(n). \n",
    "\n",
    "Two technical asides: 1) If the array has an even number, the middle number is the lower of the two middle numbers. 2) The effiecincy here can be uncovered by a proof or by making a results table for the first few n cases and counting the number interations for the case at hand. \n",
    "\n",
    "Below, is the code to perform binary.\n",
    "Also, here are two links to vizualize binary search in action:\n",
    "Site 1: http://www.cs.armstrong.edu/liang/animation/web/BinarySearch.html\n",
    "Site 2: https://www.cs.usfca.edu/~galles/visualization/Search.html"
   ]
  },
  {
   "cell_type": "code",
   "execution_count": 1,
   "metadata": {
    "collapsed": true
   },
   "outputs": [],
   "source": [
    "#Binary Search\n",
    "#input array is sorted and postive numbers only\n",
    "def binary_search(input_array, value):\n",
    "    low=0 #gets low index\n",
    "    high=len(input_array)-1 #get high index\n",
    "    while low<=high:\n",
    "        mid=(low + high)/2 #gets mid index, if even gives lower of two middle indexes\n",
    "        if input_array[mid]==value:\n",
    "           return mid #if number returns number's index in array\n",
    "        elif input_array[mid]<value:\n",
    "            low=mid+1 # set array as arr[mid+1:]\n",
    "        else:\n",
    "            high=mid-1 #set array as arr[:mid-1]\n",
    "    return -1 "
   ]
  },
  {
   "cell_type": "code",
   "execution_count": 2,
   "metadata": {
    "collapsed": false
   },
   "outputs": [
    {
     "data": {
      "text/plain": [
       "-1"
      ]
     },
     "execution_count": 2,
     "metadata": {},
     "output_type": "execute_result"
    }
   ],
   "source": [
    "#example\n",
    "arr=[2,5,9,11,56,103,888]\n",
    "# is 1 in the array\n",
    "binary_search(arr, 1)"
   ]
  },
  {
   "cell_type": "code",
   "execution_count": 3,
   "metadata": {
    "collapsed": false
   },
   "outputs": [
    {
     "data": {
      "text/plain": [
       "6"
      ]
     },
     "execution_count": 3,
     "metadata": {},
     "output_type": "execute_result"
    }
   ],
   "source": [
    "#example\n",
    "arr=[2,5,9,11,56,103,888]\n",
    "# is 888 in the array\n",
    "binary_search(arr, 888)"
   ]
  },
  {
   "cell_type": "markdown",
   "metadata": {},
   "source": [
    "## Naive Apporach\n",
    "\n",
    "Imagine we have a 10 people standing next to each other and we want to sort them by height. Be fore we do that, we have to decide a few things. Do we want smallest to largest or largest to smallest? How should we sort, should we just measure everyone to each other?\n",
    "\n",
    "Let's assume smallest to largest. The naive apporach would be just measuring everyone to everryone else and than ordering. \n",
    "\n",
    "But as you may know or will guess, we can do something/s more efficient.\n",
    "\n",
    "Some quick definitions and notes:\n",
    "In place sorting algortihm rearranges the elements without creating new data structures\n",
    "Out of place creates new data structures\n",
    "Usually a trade off between time complexity and space complexity exists (in place means less space but more time)\n",
    "\n",
    "\n",
    "## Bubble Sort\n",
    "\n",
    "Bubble sort is a naive appraoch to sorting and an in place sorting algorithm. Let's try to understand how it works. Imagine an unsorted array of n elements and we want the elements to be ordered from smallest to largest. Now, the algortithms works by starting at the beginning of the array and comparing the first and second element and switching if the the first is larger the the second. Now it looks at the second and third and switches if the second is larger than the third. Then third and fourth and so on. That means there are n-1 comparisons the first time we run through this algoritm and the largest number will be in the last space in the array. The second time we run through this algortihm we make another n-1 comparisons and the second largest number is in the second to last space in the array. We continue this for n-1 interations and then have the array ordered.\n",
    "\n",
    "Note, the reason this algorithm is called bubble sort is because each time through the array the next highest number bubbles to the top.\n",
    "\n",
    "Now, that we see that we have to perform n-1 iterations and n-1 comparions we can compute the speed complexity. There exists n^2-2n+1 steps, therefore the big o notation is O(n^2).\n",
    "\n",
    "Aside: in the real world, since we know each time through the algortihm the next highest element gets to its right spot. We actually could just do n-1, n-2, n-3, n-4, etc comparisons each time instead of n-1 each time. This will save us some time, but won't change the big o notation.\n",
    "\n",
    "Below is the code to perform the bubble sort.\n",
    "And here is the wiki: https://en.wikipedia.org/wiki/Bubble_sort\n",
    "Helpful illustration: http://interactivepython.org/runestone/static/pythonds/SortSearch/TheBubbleSort.html"
   ]
  },
  {
   "cell_type": "code",
   "execution_count": 4,
   "metadata": {
    "collapsed": true
   },
   "outputs": [],
   "source": [
    "#bubble sort\n",
    "def bubbleSort(array):\n",
    "    for desc in range(len(array)-1,0,-1): #create desc ind to control num comps each iter through\n",
    "        for i in range(desc): \n",
    "            if array[i]>array[i+1]:\n",
    "                temp = array[i] #hold larger num to be moved\n",
    "                array[i] = array[i+1] #move smaller num to lower index\n",
    "                array[i+1] = temp #move larger num to higher index"
   ]
  },
  {
   "cell_type": "code",
   "execution_count": 5,
   "metadata": {
    "collapsed": false
   },
   "outputs": [
    {
     "name": "stdout",
     "output_type": "stream",
     "text": [
      "[17, 20, 26, 31, 44, 54, 55, 77, 93]\n"
     ]
    }
   ],
   "source": [
    "#example\n",
    "a = [54,26,93,17,77,31,44,55,20]\n",
    "bubbleSort(a)\n",
    "print(a)"
   ]
  },
  {
   "cell_type": "markdown",
   "metadata": {},
   "source": [
    "## Merge Sort\n",
    "\n",
    "O(nlog(n))"
   ]
  },
  {
   "cell_type": "code",
   "execution_count": null,
   "metadata": {
    "collapsed": true
   },
   "outputs": [],
   "source": []
  },
  {
   "cell_type": "code",
   "execution_count": null,
   "metadata": {
    "collapsed": true
   },
   "outputs": [],
   "source": [
    "def quickSort(alist):\n",
    "   quickSortHelper(alist,0,len(alist)-1)\n",
    "\n",
    "def quickSortHelper(alist,first,last):\n",
    "   if first<last:\n",
    "\n",
    "       splitpoint = partition(alist,first,last)\n",
    "\n",
    "       quickSortHelper(alist,first,splitpoint-1)\n",
    "       quickSortHelper(alist,splitpoint+1,last)\n",
    "\n",
    "\n",
    "def partition(alist,first,last):\n",
    "   pivotvalue = alist[first]\n",
    "\n",
    "   leftmark = first+1\n",
    "   rightmark = last\n",
    "\n",
    "   done = False\n",
    "   while not done:\n",
    "\n",
    "       while leftmark <= rightmark and alist[leftmark] <= pivotvalue:\n",
    "           leftmark = leftmark + 1\n",
    "\n",
    "       while alist[rightmark] >= pivotvalue and rightmark >= leftmark:\n",
    "           rightmark = rightmark -1\n",
    "\n",
    "       if rightmark < leftmark:\n",
    "           done = True\n",
    "       else:\n",
    "           temp = alist[leftmark]\n",
    "           alist[leftmark] = alist[rightmark]\n",
    "           alist[rightmark] = temp\n",
    "\n",
    "   temp = alist[first]\n",
    "   alist[first] = alist[rightmark]\n",
    "   alist[rightmark] = temp\n",
    "\n",
    "\n",
    "   return rightmark"
   ]
  }
 ],
 "metadata": {
  "kernelspec": {
   "display_name": "Python [dato-env]",
   "language": "python",
   "name": "Python [dato-env]"
  },
  "language_info": {
   "codemirror_mode": {
    "name": "ipython",
    "version": 2
   },
   "file_extension": ".py",
   "mimetype": "text/x-python",
   "name": "python",
   "nbconvert_exporter": "python",
   "pygments_lexer": "ipython2",
   "version": "2.7.12"
  }
 },
 "nbformat": 4,
 "nbformat_minor": 0
}
